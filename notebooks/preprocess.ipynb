{
 "cells": [
  {
   "cell_type": "code",
   "execution_count": null,
   "metadata": {},
   "outputs": [],
   "source": [
    "\"\"\"\n",
    "{\"version\": \"v2.0\", \n",
    " \"data\": [{\"title\": \"Normans\", \n",
    "    \"paragraphs\": \n",
    "    [{\"qas\": \n",
    "        [ \n",
    "         {\"question\": \"When were the Normans in Normandy?\", \n",
    "          \"id\": \"56ddde6b9a695914005b9629\", \n",
    "          \"answers\": [{\"text\": \"10th and 11th centuries\", \"answer_start\": 94}, \n",
    "                      {\"text\": \"in the 10th and 11th centuries\", \"answer_start\": 87}, \n",
    "                      {\"text\": \"10th and 11th centuries\", \"answer_start\": 94}, \n",
    "                      {\"text\": \"10th and 11th centuries\", \"answer_start\": 94}], \n",
    "          \"is_impossible\": false}, \n",
    "         {\"question\": \"What century did the Normans first gain their separate identity?\", \n",
    "          \"id\": \"56ddde6b9a695914005b962c\", \n",
    "          \"answers\": [{\"text\": \"10th century\", \"answer_start\": 671}, \n",
    "                      {\"text\": \"the first half of the 10th century\", \"answer_start\": 649}, \n",
    "                      {\"text\": \"10th\", \"answer_start\": 671}, \n",
    "                      {\"text\": \"10th\", \"answer_start\": 671}], \n",
    "          \"is_impossible\": false}, \n",
    "         {\"plausible_answers\": [{\"text\": \"Normandy\", \"answer_start\": 137}], \n",
    "          \"question\": \"What is France a region of?\", \n",
    "          \"id\": \"5ad39d53604f3c001a3fe8d2\", \n",
    "          \"answers\": [], \n",
    "          \"is_impossible\": true}, \n",
    "         {\"plausible_answers\": [{\"text\": \"Rollo\", \"answer_start\": 308}], \n",
    "          \"question\": \"Who did King Charles III swear fealty to?\", \n",
    "          \"id\": \"5ad39d53604f3c001a3fe8d3\", \n",
    "          \"answers\": [], \n",
    "          \"is_impossible\": true}], \n",
    "        \"context\": \"The Normans (Norman: Nourmands; French: Normands; Latin: Normanni) were the people who in the 10th and 11th centuries gave their name to Normandy, a region in France. They were descended from Norse (\\\"Norman\\\" comes from \\\"Norseman\\\") raiders and pirates from Denmark, Iceland and Norway who, under their leader Rollo, agreed to swear fealty to King Charles III of West Francia. Through generations of assimilation and mixing with the native Frankish and Roman-Gaulish populations, their descendants would gradually merge with the Carolingian-based cultures of West Francia. The distinct cultural and ethnic identity of the Normans emerged initially in the first half of the 10th century, and it continued to evolve over the succeeding centuries.\"\n",
    "     }\n",
    "        ]}]}\n",
    "\"\"\""
   ]
  },
  {
   "cell_type": "code",
   "execution_count": 6,
   "metadata": {},
   "outputs": [
    {
     "name": "stdout",
     "output_type": "stream",
     "text": [
      "sentence including `hello` is` hello...and another sentence.`\n"
     ]
    }
   ],
   "source": [
    "import spacy\n",
    "nlp = spacy.load('en_core_web_sm')\n",
    "def get_sentence(context, start):\n",
    "    \"\"\"Get sentence include start\n",
    "    \"\"\"\n",
    "    doc = nlp(context)\n",
    "    cur = 0\n",
    "    for sent in doc.sents:\n",
    "        if len(sent.text) + cur > start:\n",
    "            return sent.text\n",
    "        cur += len(sent.text)\n",
    "    return ''\n",
    "    \n",
    "text = u\"this is a sentence...hello...and another sentence.\"\n",
    "print(f'sentence including `hello` is` {get_sentence(text, 21)}`')"
   ]
  },
  {
   "cell_type": "code",
   "execution_count": 12,
   "metadata": {},
   "outputs": [
    {
     "name": "stdout",
     "output_type": "stream",
     "text": [
      "{'text': 'bbb'}\n"
     ]
    }
   ],
   "source": [
    "from collections import Counter\n",
    "def vote(answers):\n",
    "    \"\"\"Choose the answer in answers where answer.text appeare most of time\n",
    "    \"\"\"\n",
    "    ct = Counter([answer['text'] for answer in answers])\n",
    "    choose = answers[0]\n",
    "    max_count = 1\n",
    "    for answer in answers:\n",
    "        if ct[answer['text']] > max_count:\n",
    "            max_count = ct[answer['text']]\n",
    "            choose = answer\n",
    "    return choose\n",
    "\n",
    "print(vote([{'text':'aaa'},{'text':'bbb'},{'text':'bbb'}]))"
   ]
  },
  {
   "cell_type": "code",
   "execution_count": 19,
   "metadata": {},
   "outputs": [
    {
     "name": "stdout",
     "output_type": "stream",
     "text": [
      "total_num for data is 11873\n",
      "first 10 data is [{'context': 'The Normans (Norman: Nourmands; French: Normands; Latin: Normanni) were the people who in the 10th and 11th centuries gave their name to Normandy, a region in France. They were descended from Norse (\"Norman\" comes from \"Norseman\") raiders and pirates from Denmark, Iceland and Norway who, under their leader Rollo, agreed to swear fealty to King Charles III of West Francia. Through generations of assimilation and mixing with the native Frankish and Roman-Gaulish populations, their descendants would gradually merge with the Carolingian-based cultures of West Francia. The distinct cultural and ethnic identity of the Normans emerged initially in the first half of the 10th century, and it continued to evolve over the succeeding centuries.', 'gold_sentence': 'The Normans (Norman: Nourmands; French: Normands; Latin: Normanni) were the people who in the 10th and 11th centuries gave their name to Normandy, a region in France.', 'question': 'In what country is Normandy located?', 'label': 1, 'answer': {'text': 'France', 'answer_start': 159}}, {'context': 'The Normans (Norman: Nourmands; French: Normands; Latin: Normanni) were the people who in the 10th and 11th centuries gave their name to Normandy, a region in France. They were descended from Norse (\"Norman\" comes from \"Norseman\") raiders and pirates from Denmark, Iceland and Norway who, under their leader Rollo, agreed to swear fealty to King Charles III of West Francia. Through generations of assimilation and mixing with the native Frankish and Roman-Gaulish populations, their descendants would gradually merge with the Carolingian-based cultures of West Francia. The distinct cultural and ethnic identity of the Normans emerged initially in the first half of the 10th century, and it continued to evolve over the succeeding centuries.', 'gold_sentence': 'The Normans (Norman: Nourmands; French: Normands; Latin: Normanni) were the people who in the 10th and 11th centuries gave their name to Normandy, a region in France.', 'question': 'When were the Normans in Normandy?', 'label': 1, 'answer': {'text': '10th and 11th centuries', 'answer_start': 94}}, {'context': 'The Normans (Norman: Nourmands; French: Normands; Latin: Normanni) were the people who in the 10th and 11th centuries gave their name to Normandy, a region in France. They were descended from Norse (\"Norman\" comes from \"Norseman\") raiders and pirates from Denmark, Iceland and Norway who, under their leader Rollo, agreed to swear fealty to King Charles III of West Francia. Through generations of assimilation and mixing with the native Frankish and Roman-Gaulish populations, their descendants would gradually merge with the Carolingian-based cultures of West Francia. The distinct cultural and ethnic identity of the Normans emerged initially in the first half of the 10th century, and it continued to evolve over the succeeding centuries.', 'gold_sentence': 'They were descended from Norse (\"Norman\" comes from \"Norseman\") raiders and pirates from Denmark, Iceland and Norway who, under their leader Rollo, agreed to swear fealty to King Charles III of West Francia.', 'question': 'From which countries did the Norse originate?', 'label': 1, 'answer': {'text': 'Denmark, Iceland and Norway', 'answer_start': 256}}, {'context': 'The Normans (Norman: Nourmands; French: Normands; Latin: Normanni) were the people who in the 10th and 11th centuries gave their name to Normandy, a region in France. They were descended from Norse (\"Norman\" comes from \"Norseman\") raiders and pirates from Denmark, Iceland and Norway who, under their leader Rollo, agreed to swear fealty to King Charles III of West Francia. Through generations of assimilation and mixing with the native Frankish and Roman-Gaulish populations, their descendants would gradually merge with the Carolingian-based cultures of West Francia. The distinct cultural and ethnic identity of the Normans emerged initially in the first half of the 10th century, and it continued to evolve over the succeeding centuries.', 'gold_sentence': 'They were descended from Norse (\"Norman\" comes from \"Norseman\") raiders and pirates from Denmark, Iceland and Norway who, under their leader Rollo, agreed to swear fealty to King Charles III of West Francia.', 'question': 'Who was the Norse leader?', 'label': 1, 'answer': {'text': 'Rollo', 'answer_start': 308}}, {'context': 'The Normans (Norman: Nourmands; French: Normands; Latin: Normanni) were the people who in the 10th and 11th centuries gave their name to Normandy, a region in France. They were descended from Norse (\"Norman\" comes from \"Norseman\") raiders and pirates from Denmark, Iceland and Norway who, under their leader Rollo, agreed to swear fealty to King Charles III of West Francia. Through generations of assimilation and mixing with the native Frankish and Roman-Gaulish populations, their descendants would gradually merge with the Carolingian-based cultures of West Francia. The distinct cultural and ethnic identity of the Normans emerged initially in the first half of the 10th century, and it continued to evolve over the succeeding centuries.', 'gold_sentence': 'The distinct cultural and ethnic identity of the Normans emerged initially in the first half of the 10th century, and it continued to evolve over the succeeding centuries.', 'question': 'What century did the Normans first gain their separate identity?', 'label': 1, 'answer': {'text': '10th', 'answer_start': 671}}, {'context': 'The Normans (Norman: Nourmands; French: Normands; Latin: Normanni) were the people who in the 10th and 11th centuries gave their name to Normandy, a region in France. They were descended from Norse (\"Norman\" comes from \"Norseman\") raiders and pirates from Denmark, Iceland and Norway who, under their leader Rollo, agreed to swear fealty to King Charles III of West Francia. Through generations of assimilation and mixing with the native Frankish and Roman-Gaulish populations, their descendants would gradually merge with the Carolingian-based cultures of West Francia. The distinct cultural and ethnic identity of the Normans emerged initially in the first half of the 10th century, and it continued to evolve over the succeeding centuries.', 'gold_sentence': 'The Normans (Norman: Nourmands; French: Normands; Latin: Normanni) were the people who in the 10th and 11th centuries gave their name to Normandy, a region in France.', 'question': \"Who gave their name to Normandy in the 1000's and 1100's\", 'label': 0, 'answer': {'text': 'Normans', 'answer_start': 4}}, {'context': 'The Normans (Norman: Nourmands; French: Normands; Latin: Normanni) were the people who in the 10th and 11th centuries gave their name to Normandy, a region in France. They were descended from Norse (\"Norman\" comes from \"Norseman\") raiders and pirates from Denmark, Iceland and Norway who, under their leader Rollo, agreed to swear fealty to King Charles III of West Francia. Through generations of assimilation and mixing with the native Frankish and Roman-Gaulish populations, their descendants would gradually merge with the Carolingian-based cultures of West Francia. The distinct cultural and ethnic identity of the Normans emerged initially in the first half of the 10th century, and it continued to evolve over the succeeding centuries.', 'gold_sentence': 'The Normans (Norman: Nourmands; French: Normands; Latin: Normanni) were the people who in the 10th and 11th centuries gave their name to Normandy, a region in France.', 'question': 'What is France a region of?', 'label': 0, 'answer': {'text': 'Normandy', 'answer_start': 137}}, {'context': 'The Normans (Norman: Nourmands; French: Normands; Latin: Normanni) were the people who in the 10th and 11th centuries gave their name to Normandy, a region in France. They were descended from Norse (\"Norman\" comes from \"Norseman\") raiders and pirates from Denmark, Iceland and Norway who, under their leader Rollo, agreed to swear fealty to King Charles III of West Francia. Through generations of assimilation and mixing with the native Frankish and Roman-Gaulish populations, their descendants would gradually merge with the Carolingian-based cultures of West Francia. The distinct cultural and ethnic identity of the Normans emerged initially in the first half of the 10th century, and it continued to evolve over the succeeding centuries.', 'gold_sentence': 'They were descended from Norse (\"Norman\" comes from \"Norseman\") raiders and pirates from Denmark, Iceland and Norway who, under their leader Rollo, agreed to swear fealty to King Charles III of West Francia.', 'question': 'Who did King Charles III swear fealty to?', 'label': 0, 'answer': {'text': 'Rollo', 'answer_start': 308}}, {'context': 'The Normans (Norman: Nourmands; French: Normands; Latin: Normanni) were the people who in the 10th and 11th centuries gave their name to Normandy, a region in France. They were descended from Norse (\"Norman\" comes from \"Norseman\") raiders and pirates from Denmark, Iceland and Norway who, under their leader Rollo, agreed to swear fealty to King Charles III of West Francia. Through generations of assimilation and mixing with the native Frankish and Roman-Gaulish populations, their descendants would gradually merge with the Carolingian-based cultures of West Francia. The distinct cultural and ethnic identity of the Normans emerged initially in the first half of the 10th century, and it continued to evolve over the succeeding centuries.', 'gold_sentence': 'The distinct cultural and ethnic identity of the Normans emerged initially in the first half of the 10th century, and it continued to evolve over the succeeding centuries.', 'question': 'When did the Frankish identity emerge?', 'label': 0, 'answer': {'text': '10th century', 'answer_start': 671}}, {'context': 'The Norman dynasty had a major political, cultural and military impact on medieval Europe and even the Near East. The Normans were famed for their martial spirit and eventually for their Christian piety, becoming exponents of the Catholic orthodoxy into which they assimilated. They adopted the Gallo-Romance language of the Frankish land they settled, their dialect becoming known as Norman, Normaund or Norman French, an important literary language. The Duchy of Normandy, which they formed by treaty with the French crown, was a great fief of medieval France, and under Richard I of Normandy was forged into a cohesive and formidable principality in feudal tenure. The Normans are noted both for their culture, such as their unique Romanesque architecture and musical traditions, and for their significant military accomplishments and innovations. Norman adventurers founded the Kingdom of Sicily under Roger II after conquering southern Italy on the Saracens and Byzantines, and an expedition on behalf of their duke, William the Conqueror, led to the Norman conquest of England at the Battle of Hastings in 1066. Norman cultural and military influence spread from these new European centres to the Crusader states of the Near East, where their prince Bohemond I founded the Principality of Antioch in the Levant, to Scotland and Wales in Great Britain, to Ireland, and to the coasts of north Africa and the Canary Islands.', 'gold_sentence': 'Norman adventurers founded the Kingdom of Sicily under Roger II after conquering southern Italy on the Saracens and Byzantines, and an expedition on behalf of their duke, William the Conqueror, led to the Norman conquest of England at the Battle of Hastings in 1066.', 'question': 'Who was the duke in the battle of Hastings?', 'label': 1, 'answer': {'text': 'William the Conqueror', 'answer_start': 1022}}]\n"
     ]
    }
   ],
   "source": [
    "import ujson as json\n",
    "\n",
    "def get_data(file_path):\n",
    "    \"\"\"Read data from file_path, convert data into form\n",
    "        {\n",
    "            'context': str\n",
    "            'gold_sentence': str\n",
    "            'question': str\n",
    "            'label': yes/no yes means the question has answer from the context, \n",
    "                     or no means there is no answer\n",
    "        }\n",
    "    \"\"\"\n",
    "    with open(file_path) as fh:\n",
    "        squad_dev = json.load(fh)['data']\n",
    "    all_data = []\n",
    "    without_plausible = 0\n",
    "    for title in squad_dev:\n",
    "        for paragraph in title['paragraphs']:\n",
    "            context = paragraph['context']\n",
    "            for qa in paragraph['qas']:\n",
    "                # get {'text':xxx, 'answer_start':xxx}\n",
    "                answer = {}\n",
    "                if qa['is_impossible']:\n",
    "                    if qa['plausible_answers']:\n",
    "                        answer = qa['plausible_answers'][0]\n",
    "                else:\n",
    "                    answer = vote(qa['answers'])\n",
    "                gold_sentence = get_sentence(context, answer['answer_start']) if answer else ''\n",
    "                question = qa['question']\n",
    "                label = 0 if qa['is_impossible'] else 1\n",
    "                all_data.append({\n",
    "                    'context': context,\n",
    "                    'gold_sentence': gold_sentence,\n",
    "                    'question': question,\n",
    "                    'label': label,\n",
    "                    'answer': answer\n",
    "                })\n",
    "    return all_data\n",
    "all_data = get_data('./external/dev-v2.0.json')\n",
    "with open('./external/dev-v2.0-preprocessed.json', 'w') as fh:\n",
    "    json.dump(all_data, fh)\n",
    "print(f'total_num for data is {len(all_data)}')\n",
    "print(f'first 10 data is {all_data[:10]}')"
   ]
  }
 ],
 "metadata": {
  "kernelspec": {
   "display_name": "Python 3",
   "language": "python",
   "name": "python3"
  },
  "language_info": {
   "codemirror_mode": {
    "name": "ipython",
    "version": 3
   },
   "file_extension": ".py",
   "mimetype": "text/x-python",
   "name": "python",
   "nbconvert_exporter": "python",
   "pygments_lexer": "ipython3",
   "version": "3.6.2"
  }
 },
 "nbformat": 4,
 "nbformat_minor": 2
}
