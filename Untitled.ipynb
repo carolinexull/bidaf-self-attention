{
 "cells": [
  {
   "cell_type": "code",
   "execution_count": 11,
   "metadata": {},
   "outputs": [
    {
     "name": "stdout",
     "output_type": "stream",
     "text": [
      "tensor([1., 2.])\n",
      "None\n",
      "None\n"
     ]
    }
   ],
   "source": [
    "import torch\n",
    "a = torch.tensor([1., 2.])\n",
    "x = torch.tensor(a)\n",
    "print(x)\n",
    "a[0] = 2\n",
    "print(x._grad)\n",
    "print(a._grad)"
   ]
  }
 ],
 "metadata": {
  "kernelspec": {
   "display_name": "Python 3",
   "language": "python",
   "name": "python3"
  },
  "language_info": {
   "codemirror_mode": {
    "name": "ipython",
    "version": 3
   },
   "file_extension": ".py",
   "mimetype": "text/x-python",
   "name": "python",
   "nbconvert_exporter": "python",
   "pygments_lexer": "ipython3",
   "version": "3.6.2"
  }
 },
 "nbformat": 4,
 "nbformat_minor": 2
}
